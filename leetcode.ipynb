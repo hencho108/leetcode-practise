{
 "cells": [
  {
   "cell_type": "markdown",
   "metadata": {},
   "source": [
    "# Leetcode Practise"
   ]
  },
  {
   "cell_type": "markdown",
   "metadata": {},
   "source": [
    "## [1. Two Sum](https://leetcode.com/problems/two-sum/)\n",
    "Given an array of integers nums and an integer target, return indices of the two numbers such that they add up to target.\n",
    "\n",
    "You may assume that each input would have exactly one solution, and you may not use the same element twice."
   ]
  },
  {
   "cell_type": "code",
   "execution_count": 2,
   "metadata": {},
   "outputs": [
    {
     "data": {
      "text/plain": [
       "(0, 1)"
      ]
     },
     "execution_count": 2,
     "metadata": {},
     "output_type": "execute_result"
    }
   ],
   "source": [
    "nums = [2,7,11,15]\n",
    "target = 9\n",
    "\n",
    "def two_sum_1(nums, target):\n",
    "    hm = {} # hashmap\n",
    "    for i, num in enumerate(nums):\n",
    "        hm[num] = i\n",
    "\n",
    "    for i, num in enumerate(hm):\n",
    "        rest = target - num\n",
    "        if rest in hm and hm[rest] != i:\n",
    "            return (i, hm[rest])\n",
    "\n",
    "two_sum_1(nums, target)"
   ]
  },
  {
   "cell_type": "code",
   "execution_count": 3,
   "metadata": {},
   "outputs": [
    {
     "data": {
      "text/plain": [
       "(0, 1)"
      ]
     },
     "execution_count": 3,
     "metadata": {},
     "output_type": "execute_result"
    }
   ],
   "source": [
    "def two_sum_2(nums, target):\n",
    "    d={}\n",
    "    for i,num in enumerate(nums):\n",
    "        if target-num in d:\n",
    "            return d[target-num], i\n",
    "        d[num]=i\n",
    "        \n",
    "two_sum_2(nums, target)"
   ]
  },
  {
   "cell_type": "markdown",
   "metadata": {},
   "source": [
    "## [167. Two Sum II - Input Array Is Sorted](https://leetcode.com/problems/two-sum-ii-input-array-is-sorted/)\n",
    "\n",
    "Given a 1-indexed array of integers numbers that is already sorted in non-decreasing order, find two numbers such that they add up to a specific target number. Let these two numbers be numbers[index1] and numbers[index2] where 1 <= index1 < index2 <= numbers.length.\n",
    "\n",
    "Return the indices of the two numbers, index1 and index2, added by one as an integer array [index1, index2] of length 2.\n",
    "\n",
    "The tests are generated such that there is exactly one solution. You may not use the same element twice."
   ]
  },
  {
   "cell_type": "code",
   "execution_count": 4,
   "metadata": {},
   "outputs": [
    {
     "data": {
      "text/plain": [
       "[1, 2]"
      ]
     },
     "execution_count": 4,
     "metadata": {},
     "output_type": "execute_result"
    }
   ],
   "source": [
    "nums = [2,7,11,15]\n",
    "target = 9\n",
    "\n",
    "def two_sum(nums, target):\n",
    "    # Two pointer solution\n",
    "    n = len(nums) - 1\n",
    "    l, r = 0, n\n",
    "\n",
    "    while l < r:\n",
    "        cur_sum = nums[l] + nums[r]\n",
    "        if cur_sum == target:\n",
    "            return [l + 1, r + 1]\n",
    "        elif cur_sum > target:\n",
    "            r -= 1\n",
    "        elif cur_sum < target:\n",
    "            l += 1\n",
    "    \n",
    "two_sum(nums, target)"
   ]
  },
  {
   "cell_type": "markdown",
   "metadata": {},
   "source": [
    "## [15. 3Sum](https://leetcode.com/problems/3sum/)\n",
    "Given an integer array nums, return all the triplets [nums[i], nums[j], nums[k]] such that i != j, i != k, and j != k, and nums[i] + nums[j] + nums[k] == 0.\n",
    "\n",
    "Notice that the solution set must not contain duplicate triplets.\n",
    "\n",
    "Solution: https://www.youtube.com/watch?v=jzZsG8n2R9A&t=35s"
   ]
  },
  {
   "cell_type": "code",
   "execution_count": 5,
   "metadata": {},
   "outputs": [
    {
     "data": {
      "text/plain": [
       "[[-1, -1, 2], [-1, 0, 1]]"
      ]
     },
     "execution_count": 5,
     "metadata": {},
     "output_type": "execute_result"
    }
   ],
   "source": [
    "nums = [-1,0,1,2,-1,-4]\n",
    "\n",
    "def three_sum(nums):\n",
    "    # Two pointer solution\n",
    "    n = len(nums)\n",
    "    res = []\n",
    "    nums.sort()\n",
    "\n",
    "    for i, a in enumerate(nums):\n",
    "        if i > 0 and a == nums[i-1]:\n",
    "            continue\n",
    "\n",
    "        l, r = i + 1, n - 1\n",
    "        while l < r:\n",
    "            three_sum = a + nums[l] + nums[r]\n",
    "\n",
    "            if three_sum > 0:\n",
    "                r -= 1\n",
    "            elif three_sum < 0:\n",
    "                l += 1\n",
    "            else:\n",
    "                res.append([a, nums[l], nums[r]])\n",
    "                l += 1\n",
    "                while nums[l] == nums[l-1] and l < r:\n",
    "                    l += 1\n",
    "\n",
    "    return res\n",
    "\n",
    "three_sum(nums)"
   ]
  },
  {
   "cell_type": "markdown",
   "metadata": {},
   "source": [
    "## [238. Product of Array Except Self](https://leetcode.com/problems/product-of-array-except-self/)\n",
    "Given an integer array nums, return an array answer such that answer[i] is equal to the product of all the elements of nums except nums[i].\n",
    "\n",
    "The product of any prefix or suffix of nums is guaranteed to fit in a 32-bit integer.\n",
    "\n",
    "You must write an algorithm that runs in O(n) time and without using the division operation.\n",
    "\n",
    "Solution: https://www.youtube.com/watch?v=bNvIQI2wAjk"
   ]
  },
  {
   "cell_type": "code",
   "execution_count": 6,
   "metadata": {},
   "outputs": [
    {
     "data": {
      "text/plain": [
       "[24, 12, 8, 6]"
      ]
     },
     "execution_count": 6,
     "metadata": {},
     "output_type": "execute_result"
    }
   ],
   "source": [
    "nums = [1,2,3,4]\n",
    "\n",
    "def product_except_self(nums):\n",
    "    n = len(nums)\n",
    "    res = [1] * n\n",
    "    \n",
    "    # product of every value before i\n",
    "    prefix = 1\n",
    "    for i in range(n):\n",
    "        res[i] = prefix\n",
    "        prefix *= nums[i]\n",
    "    # product of every value after i\n",
    "    postfix = 1\n",
    "    for i in range(n-1, -1, -1):\n",
    "        res[i] *= postfix\n",
    "        postfix *= nums[i]\n",
    "    return res\n",
    "\n",
    "product_except_self(nums)"
   ]
  },
  {
   "cell_type": "markdown",
   "metadata": {},
   "source": [
    "## [53. Maxium subarray](https://leetcode.com/problems/maximum-subarray/)\n",
    "Given an integer array nums, find the contiguous subarray (containing at least one number) which has the largest sum and return its sum.\n",
    "\n",
    "A subarray is a contiguous part of an array.\n",
    "\n",
    "Solutions: \n",
    "- https://www.geeksforgeeks.org/maximum-subarray-sum-using-divide-and-conquer-algorithm/?ref=lbp\n",
    "- https://www.techiedelight.com/maximum-sum-subarray-using-divide-conquer/"
   ]
  },
  {
   "cell_type": "code",
   "execution_count": 7,
   "metadata": {},
   "outputs": [
    {
     "data": {
      "text/plain": [
       "7"
      ]
     },
     "execution_count": 7,
     "metadata": {},
     "output_type": "execute_result"
    }
   ],
   "source": [
    "nums = [-2,1,-3,4,1,-1,2,1,-5,4]\n",
    "\n",
    "def msub_bf(nums):\n",
    "    n = len(nums)\n",
    "    max_sum = 0\n",
    "\n",
    "    for i in range(n):\n",
    "        for j in range(i+1, n):\n",
    "            cur_sum = sum(nums[i:j])\n",
    "            max_sum = max(cur_sum, max_sum)\n",
    "\n",
    "    return max_sum\n",
    "\n",
    "msub_bf(nums)"
   ]
  },
  {
   "cell_type": "code",
   "execution_count": 8,
   "metadata": {},
   "outputs": [
    {
     "data": {
      "text/plain": [
       "7"
      ]
     },
     "execution_count": 8,
     "metadata": {},
     "output_type": "execute_result"
    }
   ],
   "source": [
    "nums = [-2,1,-3,4,1,-1,2,1,-5,4]\n",
    "\n",
    "def msub_best(nums):\n",
    "    n = len(nums)\n",
    "    max_sum = nums[0]\n",
    "    cur_sum = 0\n",
    "\n",
    "    for i in nums:\n",
    "        cur_sum = max(0, cur_sum)\n",
    "        cur_sum += i\n",
    "        max_sum = max(max_sum, cur_sum)\n",
    "\n",
    "    return max_sum\n",
    "\n",
    "msub_best(nums)"
   ]
  },
  {
   "cell_type": "code",
   "execution_count": 9,
   "metadata": {},
   "outputs": [
    {
     "data": {
      "text/plain": [
       "7"
      ]
     },
     "execution_count": 9,
     "metadata": {},
     "output_type": "execute_result"
    }
   ],
   "source": [
    "nums = [-2,1,-3,4,1,-1,2,1,-5,4]\n",
    "\n",
    "def msub_dnc(nums, l=None, r=None):\n",
    "\n",
    "    # Base case\n",
    "    if not nums:\n",
    "        return 0\n",
    "\n",
    "    # Initialize pointers\n",
    "    if l is None and r is None:\n",
    "        l, r = 0, len(nums) - 1\n",
    "    \n",
    "    if l == r:\n",
    "        return nums[l]\n",
    "\n",
    "    # Set mid point\n",
    "    m = (l + r) // 2\n",
    "    \n",
    "    # left side\n",
    "    left_max, cur_sum = float('-inf'), 0\n",
    "    for i in range(m, l - 1, -1):\n",
    "        cur_sum += nums[i]\n",
    "        left_max = max(left_max, cur_sum)\n",
    "        \n",
    "    # right side\n",
    "    right_max, cur_sum = float('-inf'), 0\n",
    "    for i in range(m+1, r+1):\n",
    "        cur_sum += nums[i]\n",
    "        right_max = max(right_max, cur_sum)\n",
    "\n",
    "    max_left_or_right = max(\n",
    "        msub_dnc(nums, l=l, r=m), \n",
    "        msub_dnc(nums, l=m+1, r=r)\n",
    "    )\n",
    "    return max(max_left_or_right, right_max + left_max)\n",
    "\n",
    "msub_dnc(nums)"
   ]
  },
  {
   "cell_type": "code",
   "execution_count": 10,
   "metadata": {},
   "outputs": [],
   "source": [
    "# Inputs\n",
    "nums = [-2,1,-3,4,1,-1,2,1,-5,4]\n",
    "# nums = [2, -4, -1, -9, -6, -7, -3]\n",
    "# nums = [-3,-2,-4,-1,-2]\n"
   ]
  },
  {
   "cell_type": "code",
   "execution_count": 11,
   "metadata": {},
   "outputs": [
    {
     "name": "stdout",
     "output_type": "stream",
     "text": [
      "nums = [-2, 1, -3, 4, 1, -1, 2, 1, -5, 4]\n",
      "(7, [4, 1, -1, 2, 1])\n"
     ]
    }
   ],
   "source": [
    "def max_subarr_brute_force(nums):\n",
    "    n = len(nums)\n",
    "    max_sum = nums[0]\n",
    "    max_sub_arr = []\n",
    "\n",
    "    for i in range(n):\n",
    "        for j in range(i+1, n):\n",
    "            if sum(nums[i:j+1]) > max_sum:\n",
    "                max_sum = sum(nums[i:j+1])\n",
    "                max_sub_arr = nums[i:j+1]\n",
    "\n",
    "    return max_sum, max_sub_arr\n",
    "\n",
    "print(f'nums = {nums}')\n",
    "print(max_subarr_brute_force(nums))"
   ]
  },
  {
   "cell_type": "code",
   "execution_count": 12,
   "metadata": {},
   "outputs": [
    {
     "name": "stdout",
     "output_type": "stream",
     "text": [
      "nums = [-2, 1, -3, 4, 1, -1, 2, 1, -5, 4]\n",
      "(7, [4, 1, -1, 2, 1])\n"
     ]
    }
   ],
   "source": [
    "def max_subarr_1(nums):\n",
    "    max_sum = nums[0]\n",
    "    curr_max = 0\n",
    "    sub_arr = []\n",
    "    final_sub_arr = []\n",
    "\n",
    "    for n in nums:\n",
    "        curr_max += n\n",
    "        sub_arr.append(n)\n",
    "\n",
    "        if curr_max < 0:\n",
    "            curr_max = 0\n",
    "            sub_arr = []\n",
    "\n",
    "        elif max_sum < curr_max:\n",
    "            max_sum = curr_max\n",
    "            final_sub_arr = sub_arr.copy()\n",
    "\n",
    "    return max_sum, final_sub_arr\n",
    "\n",
    "print(f'nums = {nums}')\n",
    "print(max_subarr_1(nums))"
   ]
  },
  {
   "cell_type": "code",
   "execution_count": 13,
   "metadata": {},
   "outputs": [
    {
     "name": "stdout",
     "output_type": "stream",
     "text": [
      "nums = [-2, 1, -3, 4, 1, -1, 2, 1, -5, 4]\n",
      "7\n"
     ]
    }
   ],
   "source": [
    "def max_subarr_2(nums):\n",
    "    max_sum = nums[0]\n",
    "    curr_sum = 0\n",
    "\n",
    "    for n in nums:\n",
    "        if curr_sum < 0:\n",
    "            curr_sum = 0\n",
    "        \n",
    "        curr_sum += n\n",
    "        max_sum = max(max_sum, curr_sum)\n",
    "\n",
    "    return max_sum\n",
    "\n",
    "print(f'nums = {nums}')\n",
    "print(max_subarr_2(nums))"
   ]
  },
  {
   "cell_type": "code",
   "execution_count": 14,
   "metadata": {},
   "outputs": [
    {
     "name": "stdout",
     "output_type": "stream",
     "text": [
      "nums = [-2, 1, -3, 4, 1, -1, 2, 1, -5, 4]\n",
      "(7, [4, 1, -1, 2, 1])\n"
     ]
    }
   ],
   "source": [
    "def max_subarr_3(nums):\n",
    "    loc_max = float('-inf')\n",
    "    glob_max = 0\n",
    "    \n",
    "    sub_arr = []\n",
    "    max_sub_arr =[]\n",
    "\n",
    "    for n in nums:\n",
    "\n",
    "        if n > n + loc_max:\n",
    "            sub_arr = []\n",
    "        sub_arr.append(n)\n",
    "\n",
    "        loc_max = max(n, n + loc_max)\n",
    "\n",
    "        if loc_max > glob_max:\n",
    "            glob_max = loc_max\n",
    "            max_sub_arr = sub_arr.copy()\n",
    "\n",
    "    return glob_max, max_sub_arr\n",
    "\n",
    "print(f'nums = {nums}')\n",
    "print(max_subarr_3(nums))"
   ]
  },
  {
   "cell_type": "code",
   "execution_count": 15,
   "metadata": {},
   "outputs": [
    {
     "name": "stdout",
     "output_type": "stream",
     "text": [
      "nums = [-2, 1, -3, 4, 1, -1, 2, 1, -5, 4]\n",
      "7\n"
     ]
    }
   ],
   "source": [
    "# Using devide and conquer\n",
    "# https://www.techiedelight.com/maximum-sum-subarray-using-divide-conquer/\n",
    "import sys\n",
    " \n",
    "def max_subarr_devide_and_conquer(nums, left=None, right=None):\n",
    " \n",
    "    # base case\n",
    "    if not nums:\n",
    "        return 0\n",
    " \n",
    "    if left is None and right is None:\n",
    "        left, right = 0, len(nums) - 1\n",
    " \n",
    "    # If the list contains 0 or 1 element\n",
    "    if right == left:\n",
    "        return nums[left]\n",
    " \n",
    "    # Find the middle element in the list\n",
    "    mid = (left + right) // 2\n",
    " \n",
    "    # Find maximum sublist sum for the left sublist,\n",
    "    # including the middle element\n",
    "    leftMax = -sys.maxsize\n",
    "    total = 0\n",
    "    for i in range(mid, left - 1, -1):\n",
    "        total += nums[i]\n",
    "        if total > leftMax:\n",
    "            leftMax = total\n",
    " \n",
    "    # Find maximum sublist sum for the right sublist,\n",
    "    # excluding the middle element\n",
    "    rightMax = -sys.maxsize\n",
    "    total = 0        # reset sum to 0\n",
    "    for i in range(mid + 1, right + 1):\n",
    "        total += nums[i]\n",
    "        if total > rightMax:\n",
    "            rightMax = total\n",
    " \n",
    "    # Recursively find the maximum sublist sum for the left\n",
    "    # and right sublist, and take maximum\n",
    "    maxLeftRight = max(max_subarr_devide_and_conquer(nums, left, mid),\n",
    "                    max_subarr_devide_and_conquer(nums, mid + 1, right))\n",
    " \n",
    "    # return the maximum of the three\n",
    "    return max(maxLeftRight, leftMax + rightMax)\n",
    "\n",
    "print(f'nums = {nums}')\n",
    "print(max_subarr_devide_and_conquer(nums))"
   ]
  },
  {
   "cell_type": "markdown",
   "metadata": {},
   "source": [
    "## [26. Remove Duplicates from Sorted Array](https://leetcode.com/problems/remove-duplicates-from-sorted-array/)\n",
    "Given an integer array nums sorted in non-decreasing order, remove the duplicates in-place such that each unique element appears only once. The relative order of the elements should be kept the same.\n",
    "\n",
    "Since it is impossible to change the length of the array in some languages, you must instead have the result be placed in the first part of the array nums. More formally, if there are k elements after removing the duplicates, then the first k elements of nums should hold the final result. It does not matter what you leave beyond the first k elements.\n",
    "\n",
    "Return k after placing the final result in the first k slots of nums.\n",
    "\n",
    "Do not allocate extra space for another array. You must do this by modifying the input array in-place with O(1) extra memory."
   ]
  },
  {
   "cell_type": "code",
   "execution_count": 16,
   "metadata": {},
   "outputs": [
    {
     "data": {
      "text/plain": [
       "[0, 1, 2, 3, 4, 0, 0, 0, 0, 0]"
      ]
     },
     "execution_count": 16,
     "metadata": {},
     "output_type": "execute_result"
    }
   ],
   "source": [
    "nums = [0,0,1,1,1,2,2,3,3,4]\n",
    "\n",
    "def remove_duplicates(nums):\n",
    "    n = len(nums)\n",
    "    count = 0\n",
    "\n",
    "    for i in range(n):\n",
    "        if (i < n-2) and (nums[i] == nums[i+1]):\n",
    "            continue\n",
    "        \n",
    "        nums[count] = nums[i]\n",
    "        count += 1\n",
    "\n",
    "    fill = False\n",
    "    for i in range(n):\n",
    "        if fill:\n",
    "            nums[i] = 0\n",
    "        if (i < n-2) and (nums[i+1] < nums[i]):\n",
    "            fill = True\n",
    "\n",
    "    return nums\n",
    "\n",
    "remove_duplicates(nums)"
   ]
  },
  {
   "cell_type": "markdown",
   "metadata": {},
   "source": [
    "## [66. Plus One](https://leetcode.com/problems/plus-one/)\n",
    "You are given a large integer represented as an integer array digits, where each digits[i] is the ith digit of the integer. The digits are ordered from most significant to least significant in left-to-right order. The large integer does not contain any leading 0's.\n",
    "\n",
    "Increment the large integer by one and return the resulting array of digits."
   ]
  },
  {
   "cell_type": "code",
   "execution_count": 17,
   "metadata": {},
   "outputs": [
    {
     "data": {
      "text/plain": [
       "[4, 3, 2, 2]"
      ]
     },
     "execution_count": 17,
     "metadata": {},
     "output_type": "execute_result"
    }
   ],
   "source": [
    "digits = [4,3,2,1]\n",
    "# digits = [9,9,9]\n",
    "\n",
    "def plus_one(digits):\n",
    "    n = len(digits)\n",
    "\n",
    "    for i in range(1, n+1):\n",
    "        if digits[-i] == 9:\n",
    "            digits[-i] = 0\n",
    "        else:\n",
    "            digits[-i] += 1\n",
    "            break\n",
    "\n",
    "    if digits[0] == 0:      # If it's all 9, then the first digit is 1 followed by a 0\n",
    "        digits.append(0)    # eg:[9,9,9] --> [1,0,0,0]\n",
    "        digits[0] = 1\n",
    "    \n",
    "    return digits\n",
    "\n",
    "plus_one(digits)"
   ]
  },
  {
   "cell_type": "markdown",
   "metadata": {},
   "source": [
    "## [136. Single Number](https://leetcode.com/problems/single-number/)\n",
    "Given a non-empty array of integers nums, every element appears twice except for one. Find that single one.\n",
    "\n",
    "You must implement a solution with a linear runtime complexity and use only constant extra space.\n",
    "\n",
    "Solution:\n",
    "- https://www.geeksforgeeks.org/find-element-appears-array-every-element-appears-twice/"
   ]
  },
  {
   "cell_type": "code",
   "execution_count": 18,
   "metadata": {},
   "outputs": [
    {
     "data": {
      "text/plain": [
       "9"
      ]
     },
     "execution_count": 18,
     "metadata": {},
     "output_type": "execute_result"
    }
   ],
   "source": [
    "nums = [2, 5, 9, 4, 5, 2, 4]\n",
    "def find_single(nums):\n",
    "    return 2 * sum(set(nums)) - sum(nums)\n",
    "\n",
    "find_single(nums)"
   ]
  },
  {
   "cell_type": "code",
   "execution_count": 20,
   "metadata": {},
   "outputs": [
    {
     "name": "stdout",
     "output_type": "stream",
     "text": [
      "2 ^ 5 = 7\n",
      "7 ^ 9 = 14\n",
      "14 ^ 4 = 10\n",
      "10 ^ 5 = 15\n",
      "15 ^ 2 = 13\n",
      "13 ^ 4 = 9\n",
      "Element occurring once is 9\n"
     ]
    }
   ],
   "source": [
    "def findSingle( ar, n):\n",
    "    res = ar[0]\n",
    "    # Do XOR of all elements and return\n",
    "    for i in range(1,n):\n",
    "        print(f\"{res} ^ {ar[i]} = {res ^ ar[i]}\")\n",
    "        res = res ^ ar[i]\n",
    "    return res\n",
    " \n",
    "# Driver code\n",
    "# ar = [7, 3, 5, 4, 5, 3, 4]\n",
    "print(\"Element occurring once is\", findSingle(nums, len(nums)))"
   ]
  },
  {
   "cell_type": "markdown",
   "metadata": {},
   "source": [
    "## [344. Reverse String](https://leetcode.com/problems/reverse-string/)\n",
    "Write a function that reverses a string. The input string is given as an array of characters s.\n",
    "\n",
    "You must do this by modifying the input array in-place with O(1) extra memory."
   ]
  },
  {
   "cell_type": "code",
   "execution_count": null,
   "metadata": {},
   "outputs": [
    {
     "data": {
      "text/plain": [
       "'cba'"
      ]
     },
     "execution_count": 67,
     "metadata": {},
     "output_type": "execute_result"
    }
   ],
   "source": [
    "s = 'abc'\n",
    "\n",
    "str = ''\n",
    "for i in range(len(s)-1, -1, -1):\n",
    "    str += s[i]\n",
    "str"
   ]
  },
  {
   "cell_type": "code",
   "execution_count": null,
   "metadata": {},
   "outputs": [
    {
     "name": "stdout",
     "output_type": "stream",
     "text": [
      "a\n",
      "ba\n",
      "cba\n"
     ]
    },
    {
     "data": {
      "text/plain": [
       "'cba'"
      ]
     },
     "execution_count": 62,
     "metadata": {},
     "output_type": "execute_result"
    }
   ],
   "source": [
    "# Using Loop\n",
    "def reverse(s):\n",
    "  str = \"\"\n",
    "  for i in s:\n",
    "    str = i + str\n",
    "  return str\n",
    "\n",
    "reverse('abc')"
   ]
  },
  {
   "cell_type": "code",
   "execution_count": null,
   "metadata": {},
   "outputs": [
    {
     "data": {
      "text/plain": [
       "'cba'"
      ]
     },
     "execution_count": 61,
     "metadata": {},
     "output_type": "execute_result"
    }
   ],
   "source": [
    "# Using recursion\n",
    "def rec_reverse_str(s):\n",
    "    if len(s) == 0:\n",
    "        return s\n",
    "    else:\n",
    "        return rec_reverse_str(s[1:]) + s[0]\n",
    "\n",
    "rec_reverse_str('abc')"
   ]
  },
  {
   "cell_type": "code",
   "execution_count": null,
   "metadata": {},
   "outputs": [
    {
     "data": {
      "text/plain": [
       "'cba'"
      ]
     },
     "execution_count": 60,
     "metadata": {},
     "output_type": "execute_result"
    }
   ],
   "source": [
    "# Using reversed\n",
    "rev = lambda s: ''.join(reversed(s))\n",
    "\n",
    "rev('abc')"
   ]
  },
  {
   "cell_type": "markdown",
   "metadata": {},
   "source": [
    "## [283. Move Zeroes](https://leetcode.com/problems/move-zeroes/)\n",
    "Given an integer array nums, move all 0's to the end of it while maintaining the relative order of the non-zero elements.\n",
    "\n",
    "Note that you must do this in-place without making a copy of the array."
   ]
  },
  {
   "cell_type": "code",
   "execution_count": null,
   "metadata": {},
   "outputs": [
    {
     "data": {
      "text/plain": [
       "[1, 3, 12, 0, 0]"
      ]
     },
     "execution_count": 68,
     "metadata": {},
     "output_type": "execute_result"
    }
   ],
   "source": [
    "# Input: nums = [0,1,0,3,12]\n",
    "# Output: [1,3,12,0,0]\n",
    "\n",
    "nums = [0,1,0,3,12]\n",
    "\n",
    "def move_zeros_to_end_1(arr):\n",
    "    \"\"\"\n",
    "    Step 1: Move non-zero elements to front\n",
    "    Traverse the array.\n",
    "    If element is non-zero then replace the element\n",
    "    at the count of non-zero elements with it.\n",
    "\n",
    "    Step 2: Fill remaining indices with zeros\n",
    "    \"\"\"\n",
    "\n",
    "    non_zero_count = 0\n",
    "\n",
    "    for e in arr:\n",
    "        if e != 0:\n",
    "            arr[non_zero_count] = e\n",
    "            non_zero_count += 1\n",
    "\n",
    "    while non_zero_count < len(arr):\n",
    "        arr[non_zero_count] = 0\n",
    "        non_zero_count += 1\n",
    "\n",
    "    return arr\n",
    "\n",
    "move_zeros_to_end_1(nums)    \n"
   ]
  },
  {
   "cell_type": "code",
   "execution_count": null,
   "metadata": {},
   "outputs": [
    {
     "name": "stdout",
     "output_type": "stream",
     "text": [
      "3\n"
     ]
    },
    {
     "data": {
      "text/plain": [
       "[1, 3, 12, 0, 0]"
      ]
     },
     "execution_count": 72,
     "metadata": {},
     "output_type": "execute_result"
    }
   ],
   "source": [
    "nums = [0,1,0,3,12]\n",
    "\n",
    "def move_zeros_to_end_2(nums):\n",
    "    count = 0\n",
    "\n",
    "    for i in nums:\n",
    "        if i != 0:\n",
    "            nums[count] = i\n",
    "            count += 1\n",
    "\n",
    "    for i in range(count, len(nums)):\n",
    "        nums[i] = 0\n",
    "\n",
    "    return nums\n",
    "\n",
    "move_zeros_to_end_2(nums)    "
   ]
  },
  {
   "cell_type": "markdown",
   "metadata": {},
   "source": [
    "## [1436. Destination City](https://leetcode.com/problems/destination-city/)\n",
    "You are given the array paths, where paths[i] = [cityAi, cityBi] means there exists a direct path going from cityAi to cityBi. Return the destination city, that is, the city without any path outgoing to another city.\n",
    "\n",
    "It is guaranteed that the graph of paths forms a line without any loop, therefore, there will be exactly one destination city."
   ]
  },
  {
   "cell_type": "code",
   "execution_count": null,
   "metadata": {},
   "outputs": [
    {
     "name": "stdout",
     "output_type": "stream",
     "text": [
      "{'London': 1, 'New York': 1, 'Lima': 1, 'Sao Paulo': 0}\n",
      "Sao Paulo\n"
     ]
    }
   ],
   "source": [
    "paths = [[\"London\",\"New York\"],[\"New York\",\"Lima\"],[\"Lima\",\"Sao Paulo\"]]\n",
    "\n",
    "def dest_city(paths):\n",
    "    outgoing_count = {}\n",
    "    for org, dest in paths:\n",
    "        outgoing_count[org] = outgoing_count.get(org, 0) + 1\n",
    "        outgoing_count[dest] = outgoing_count.get(dest, 0)\n",
    "    print(outgoing_count)\n",
    "\n",
    "    for city in outgoing_count:\n",
    "        if outgoing_count[city] == 0:\n",
    "            return city\n",
    "\n",
    "print(dest_city(paths))"
   ]
  },
  {
   "cell_type": "markdown",
   "metadata": {},
   "source": [
    "## [1365. How Many Numbers Are Smaller Than the Current Number](https://leetcode.com/problems/how-many-numbers-are-smaller-than-the-current-number/)\n",
    "Given the array nums, for each nums[i] find out how many numbers in the array are smaller than it. That is, for each nums[i] you have to count the number of valid j's such that j != i and nums[j] < nums[i].\n",
    "- Input: nums = [8,1,2,2,3]\n",
    "- Output: [4,0,1,1,3]\n"
   ]
  },
  {
   "cell_type": "code",
   "execution_count": null,
   "metadata": {},
   "outputs": [
    {
     "name": "stdout",
     "output_type": "stream",
     "text": [
      "[4, 0, 1, 1, 3]\n"
     ]
    }
   ],
   "source": [
    "nums = [8,1,2,2,3]\n",
    "\n",
    "def smaller_numbers_than_current(nums):\n",
    "    sorted_nums = sorted(nums) # O(nlog(n))\n",
    "\n",
    "    smaller_counts = {}\n",
    "\n",
    "    for i, n in enumerate(sorted_nums):\n",
    "        smaller_counts[n] = smaller_counts.get(n, i)\n",
    "\n",
    "    return [smaller_counts[n] for n in nums]\n",
    "\n",
    "print(smaller_numbers_than_current(nums))"
   ]
  },
  {
   "cell_type": "markdown",
   "metadata": {},
   "source": [
    "## [704. Binary Search](https://leetcode.com/problems/binary-search/)\n",
    "Given an array of integers nums which is sorted in ascending order, and an integer target, write a function to search target in nums. If target exists, then return its index. Otherwise, return -1.\n",
    "\n",
    "You must write an algorithm with O(log n) runtime complexity.\n",
    "\n",
    "- Input: nums = [-1,0,3,5,9,12], target = 9\n",
    "- Output: 4\n",
    "- Explanation: 9 exists in nums and its index is 4\n"
   ]
  },
  {
   "cell_type": "code",
   "execution_count": null,
   "metadata": {},
   "outputs": [
    {
     "name": "stdout",
     "output_type": "stream",
     "text": [
      "4\n",
      "4\n"
     ]
    }
   ],
   "source": [
    "nums = [-1,0,3,5,9,12]\n",
    "\n",
    "def search(nums, target):\n",
    "    start = 0\n",
    "    end = len(nums) - 1\n",
    "    while start <= end:\n",
    "        mid = (start + end) // 2\n",
    "        if nums[mid] == target:\n",
    "            return mid\n",
    "        elif nums[mid] < target:\n",
    "            start = mid + 1\n",
    "        elif nums[mid] > target:\n",
    "            end = mid - 1\n",
    "    return -1\n",
    "\n",
    "def search_recursive(nums, target, start, end):\n",
    "\n",
    "    mid = (start + end) // 2\n",
    "    \n",
    "    if nums[mid] == target:\n",
    "        return mid\n",
    "\n",
    "    elif nums[mid] < target:\n",
    "        start = mid + 1\n",
    "        return search_recursive(nums, target, start, end)\n",
    "\n",
    "    elif nums[mid] > target:\n",
    "        end = mid - 1\n",
    "        return search_recursive(nums, target, start, end)\n",
    "\n",
    "    return -1\n",
    "\n",
    "print(search(nums, 9))\n",
    "print(search_recursive(nums, 9, 0, len(nums)-1))"
   ]
  },
  {
   "cell_type": "markdown",
   "metadata": {},
   "source": [
    "## [409. Longest Palindrome](https://leetcode.com/problems/longest-palindrome/)\n",
    "Given a string s which consists of lowercase or uppercase letters, return the length of the longest palindrome that can be built with those letters.\n",
    "\n",
    "Letters are case sensitive, for example, \"Aa\" is not considered a palindrome here.\n",
    "\n",
    "- Input: s = \"abccccdd\"\n",
    "- Output: 7\n",
    "- Explanation: One longest palindrome that can be built is \"dccaccd\", whose length is 7."
   ]
  },
  {
   "cell_type": "code",
   "execution_count": null,
   "metadata": {},
   "outputs": [
    {
     "name": "stdout",
     "output_type": "stream",
     "text": [
      "7\n"
     ]
    }
   ],
   "source": [
    "s = \"abccccdd\"\n",
    "\n",
    "def longest_palindrome(s):\n",
    "    char_count = {}\n",
    "    for char in s:\n",
    "        char_count[char] = char_count.get(char, 0) + 1\n",
    "\n",
    "    count = 0\n",
    "    odd_is_present = False\n",
    "\n",
    "    for char in char_count: \n",
    "        if char_count[char] % 2 == 0:\n",
    "            count += char_count[char]\n",
    "        else:\n",
    "            count += char_count[char] - 1\n",
    "            odd_is_present = True\n",
    "    \n",
    "    if odd_is_present:\n",
    "        count += 1\n",
    "\n",
    "    return count\n",
    "\n",
    "print(longest_palindrome(s))"
   ]
  },
  {
   "cell_type": "markdown",
   "metadata": {},
   "source": [
    "## [1472. Design Browser History](https://leetcode.com/problems/design-browser-history/)\n",
    "\n",
    "You have a browser of one tab where you start on the homepage and you can visit another url, get back in the history number of steps or move forward in the history number of steps.\n",
    "\n",
    "Implement the BrowserHistory class:\n",
    "\n",
    "- BrowserHistory(string homepage) Initializes the object with the homepage of the browser.\n",
    "- void visit(string url) Visits url from the current page. It clears up all the forward history.\n",
    "- string back(int steps) Move steps back in history. If you can only return x steps in the history and steps > x, you will return only x steps. Return the current url after moving back in history at most steps.\n",
    "- string forward(int steps) Move steps forward in history. If you can only forward x steps in the history and steps > x, you will forward only x steps. \n",
    "\n",
    "Return the current url after forwarding in history at most steps.\n",
    "\n",
    "Input:\n",
    "```\n",
    "[\"BrowserHistory\",\"visit\",\"visit\",\"visit\",\"back\",\"back\",\"forward\",\"visit\",\"forward\",\"back\",\"back\"]\n",
    "[[\"leetcode.com\"],[\"google.com\"],[\"facebook.com\"],[\"youtube.com\"],[1],[1],[1],[\"linkedin.com\"],[2],[2],[7]]\n",
    "```\n",
    "\n",
    "Output:\n",
    "```\n",
    "[null,null,null,null,\"facebook.com\",\"google.com\",\"facebook.com\",null,\"linkedin.com\",\"google.com\",\"leetcode.com\"]\n",
    "```"
   ]
  },
  {
   "cell_type": "code",
   "execution_count": null,
   "metadata": {},
   "outputs": [],
   "source": [
    "class BrowserHistory:\n",
    "\n",
    "    def __init__(self, homepage: str):\n",
    "        self.history = [homepage]\n",
    "        self.current_idx = 0\n",
    "\n",
    "    def visit(self, url: str) -> None:\n",
    "        self.current_idx += 1\n",
    "        self.history = self.history[:self.current_idx]\n",
    "        self.history.append(url)\n",
    "\n",
    "    def back(self, steps: int) -> str:\n",
    "        self.current_idx = max(0, self.current_idx - steps)\n",
    "        return self.history[self.current_idx]\n",
    "\n",
    "    def forward(self, steps: int) -> str:\n",
    "        self.current_idx = min(len(self.history) - 1, self.current_idx + steps)\n",
    "        return self.history[self.current_idx]"
   ]
  },
  {
   "cell_type": "markdown",
   "metadata": {},
   "source": [
    "## [322. Coin Change](https://leetcode.com/problems/coin-change/)\n",
    "\n",
    "You are given an integer array coins representing coins of different denominations and an integer amount representing a total amount of money.\n",
    "\n",
    "Return the fewest number of coins that you need to make up that amount. If that amount of money cannot be made up by any combination of the coins, return -1.\n",
    "\n",
    "You may assume that you have an infinite number of each kind of coin.\n",
    "\n",
    "Solution: https://www.youtube.com/watch?v=H9bfqozjoqs"
   ]
  },
  {
   "cell_type": "code",
   "execution_count": null,
   "metadata": {},
   "outputs": [
    {
     "data": {
      "text/plain": [
       "2"
      ]
     },
     "execution_count": 38,
     "metadata": {},
     "output_type": "execute_result"
    }
   ],
   "source": [
    "# coins = [1,2,5]\n",
    "# amount = 11\n",
    "coins = [1,3,4,5]\n",
    "amount = 7\n",
    "\n",
    "def coin_change(coins, amount):\n",
    "    dp = [float('inf')] * (amount + 1)\n",
    "    dp[0] = 0\n",
    "\n",
    "    for a in range(1, amount + 1):\n",
    "        for c in coins:\n",
    "            # print(f'{a} - {c} = {a - c}')\n",
    "            if a - c >= 0:\n",
    "                dp[a] = min(dp[a], 1 + dp[a - c])\n",
    "\n",
    "    return dp[amount] if dp[amount] != amount + 1 else -1\n",
    "\n",
    "coin_change(coins, amount)"
   ]
  },
  {
   "cell_type": "markdown",
   "metadata": {},
   "source": [
    "## [11. Container With Most Water](https://leetcode.com/problems/container-with-most-water/)\n",
    "\n",
    "You are given an integer array height of length n. There are n vertical lines drawn such that the two endpoints of the ith line are (i, 0) and (i, height[i]).\n",
    "\n",
    "Find two lines that together with the x-axis form a container, such that the container contains the most water.\n",
    "\n",
    "Return the maximum amount of water a container can store."
   ]
  },
  {
   "cell_type": "code",
   "execution_count": null,
   "metadata": {},
   "outputs": [
    {
     "data": {
      "text/plain": [
       "49"
      ]
     },
     "execution_count": 25,
     "metadata": {},
     "output_type": "execute_result"
    }
   ],
   "source": [
    "height = [1,8,6,2,5,4,8,3,7]\n",
    "\n",
    "def max_area(height):\n",
    "    left = 0\n",
    "    right = len(height) - 1\n",
    "    \n",
    "    area = 0\n",
    "    \n",
    "    while left != right:\n",
    "        l = right - left\n",
    "        h = min(height[right], height[left])\n",
    "        area = max(l*h, area)\n",
    "        \n",
    "        if height[left] < height[right]:\n",
    "            left += 1\n",
    "        else:\n",
    "            right -= 1\n",
    "    \n",
    "    return area\n",
    "\n",
    "max_area(height)"
   ]
  },
  {
   "cell_type": "markdown",
   "metadata": {},
   "source": [
    "## [70. Climbing Stairs](https://leetcode.com/problems/climbing-stairs/)\n",
    "You are climbing a staircase. It takes n steps to reach the top.\n",
    "\n",
    "Each time you can either climb 1 or 2 steps. In how many distinct ways can you climb to the top?"
   ]
  },
  {
   "cell_type": "code",
   "execution_count": null,
   "metadata": {},
   "outputs": [
    {
     "data": {
      "text/plain": [
       "8"
      ]
     },
     "execution_count": 84,
     "metadata": {},
     "output_type": "execute_result"
    }
   ],
   "source": [
    "n = 5\n",
    "\n",
    "def climb_stairs_brute_force(n):\n",
    "\n",
    "    if n == 0 or n == 1 or n == 2:\n",
    "        return n\n",
    "\n",
    "    res, step_1, step_2 = 0, 1, 2\n",
    "    for i in range(2, n):\n",
    "        res = step_1 + step_2\n",
    "        step_1 = step_2\n",
    "        step_2 = res\n",
    "    return res\n",
    "\n",
    "climb_stairs_brute_force(n)"
   ]
  },
  {
   "cell_type": "code",
   "execution_count": null,
   "metadata": {},
   "outputs": [
    {
     "data": {
      "text/plain": [
       "8"
      ]
     },
     "execution_count": 86,
     "metadata": {},
     "output_type": "execute_result"
    }
   ],
   "source": [
    "def climb_stairs_recursive(n):\n",
    "\n",
    "    if n == 0 or n == 1 or n == 2:\n",
    "        return n\n",
    "\n",
    "    return climb_stairs_recursive(n-1) + climb_stairs_recursive(n-2)\n",
    "\n",
    "climb_stairs_brute_force(n)"
   ]
  },
  {
   "cell_type": "markdown",
   "metadata": {},
   "source": [
    "## [300. Longest Increasing Subsequence](https://leetcode.com/problems/longest-increasing-subsequence/)\n",
    "\n",
    "Given an integer array nums, return the length of the longest strictly increasing subsequence.\n",
    "\n",
    "A subsequence is a sequence that can be derived from an array by deleting some or no elements without changing the order of the remaining elements. For example, [3,6,2,7] is a subsequence of the array [0,3,1,6,2,2,7]."
   ]
  },
  {
   "cell_type": "code",
   "execution_count": null,
   "metadata": {},
   "outputs": [
    {
     "name": "stdout",
     "output_type": "stream",
     "text": [
      "i=9; j=10: [1, 1, 1, 1, 1, 1, 1, 1]\n",
      "i=2; j=10: [1, 1, 1, 1, 1, 1, 1, 1]\n",
      "i=2; j=9: [1, 1, 1, 1, 1, 1, 1, 1]\n",
      "i=5; j=10: [1, 1, 1, 1, 1, 1, 1, 1]\n",
      "i=5; j=9: [1, 1, 1, 1, 1, 1, 1, 1]\n",
      "i=5; j=2: [1, 1, 1, 2, 1, 1, 1, 1]\n",
      "i=3; j=10: [1, 1, 1, 2, 1, 1, 1, 1]\n",
      "i=3; j=9: [1, 1, 1, 2, 1, 1, 1, 1]\n",
      "i=3; j=2: [1, 1, 1, 2, 2, 1, 1, 1]\n",
      "i=3; j=5: [1, 1, 1, 2, 2, 1, 1, 1]\n",
      "i=7; j=10: [1, 1, 1, 2, 2, 1, 1, 1]\n",
      "i=7; j=9: [1, 1, 1, 2, 2, 1, 1, 1]\n",
      "i=7; j=2: [1, 1, 1, 2, 2, 2, 1, 1]\n",
      "i=7; j=5: [1, 1, 1, 2, 2, 3, 1, 1]\n",
      "i=7; j=3: [1, 1, 1, 2, 2, 3, 1, 1]\n",
      "i=101; j=10: [1, 1, 1, 2, 2, 3, 2, 1]\n",
      "i=101; j=9: [1, 1, 1, 2, 2, 3, 2, 1]\n",
      "i=101; j=2: [1, 1, 1, 2, 2, 3, 2, 1]\n",
      "i=101; j=5: [1, 1, 1, 2, 2, 3, 3, 1]\n",
      "i=101; j=3: [1, 1, 1, 2, 2, 3, 3, 1]\n",
      "i=101; j=7: [1, 1, 1, 2, 2, 3, 4, 1]\n",
      "i=18; j=10: [1, 1, 1, 2, 2, 3, 4, 2]\n",
      "i=18; j=9: [1, 1, 1, 2, 2, 3, 4, 2]\n",
      "i=18; j=2: [1, 1, 1, 2, 2, 3, 4, 2]\n",
      "i=18; j=5: [1, 1, 1, 2, 2, 3, 4, 3]\n",
      "i=18; j=3: [1, 1, 1, 2, 2, 3, 4, 3]\n",
      "i=18; j=7: [1, 1, 1, 2, 2, 3, 4, 4]\n",
      "i=18; j=101: [1, 1, 1, 2, 2, 3, 4, 4]\n"
     ]
    },
    {
     "data": {
      "text/plain": [
       "4"
      ]
     },
     "execution_count": 83,
     "metadata": {},
     "output_type": "execute_result"
    }
   ],
   "source": [
    "nums = [10,9,2,5,3,7,101,18]\n",
    "\n",
    "def length_of_LIS(nums):\n",
    "    if not nums:\n",
    "        return 0\n",
    "    \n",
    "    n = len(nums)\n",
    "    dp = [1] * n\n",
    "\n",
    "    for i in range(1, n):\n",
    "        for j in range(i):\n",
    "            if nums[i] > nums[j]:\n",
    "                dp[i] = max(dp[i], 1 + dp[j])\n",
    "            print(f'i={nums[i]}; j={nums[j]}: {dp}')\n",
    "                \n",
    "    return max(dp)\n",
    "\n",
    "length_of_LIS(nums)"
   ]
  },
  {
   "cell_type": "markdown",
   "metadata": {},
   "source": [
    "## [121. Best Time to Buy and Sell Stock](https://leetcode.com/problems/best-time-to-buy-and-sell-stock/)\n",
    "\n",
    "You are given an array prices where prices[i] is the price of a given stock on the ith day.\n",
    "\n",
    "You want to maximize your profit by choosing a single day to buy one stock and choosing a different day in the future to sell that stock.\n",
    "\n",
    "Return the maximum profit you can achieve from this transaction. If you cannot achieve any profit, return 0.\n",
    "\n",
    "Solution: https://www.youtube.com/watch?v=1pkOgXD63yU"
   ]
  },
  {
   "cell_type": "code",
   "execution_count": null,
   "metadata": {},
   "outputs": [
    {
     "data": {
      "text/plain": [
       "5"
      ]
     },
     "execution_count": 48,
     "metadata": {},
     "output_type": "execute_result"
    }
   ],
   "source": [
    "prices = [7,1,5,3,6,4]\n",
    "# prices = [7,6,4,3,1]\n",
    "\n",
    "def max_profit_brute_force(prices):\n",
    "    n = len(prices)\n",
    "    max_profit = 0\n",
    "    for i in range(n):\n",
    "        for j in range(i+1, n):\n",
    "            curr_profit = prices[j] - prices[i]\n",
    "            max_profit = max(max_profit, curr_profit)\n",
    "    return max_profit\n",
    "\n",
    "max_profit_brute_force(prices)"
   ]
  },
  {
   "cell_type": "code",
   "execution_count": null,
   "metadata": {},
   "outputs": [
    {
     "data": {
      "text/plain": [
       "5"
      ]
     },
     "execution_count": 51,
     "metadata": {},
     "output_type": "execute_result"
    }
   ],
   "source": [
    "def max_profit_two_pointers(prices):\n",
    "    l, r = 0, 1\n",
    "    max_profit = 0\n",
    "\n",
    "    while r < len(prices):\n",
    "        # Check if profitable\n",
    "        profit = prices[r] - prices[l]\n",
    "        if profit > 0:\n",
    "            max_profit = max(max_profit, profit)\n",
    "        else:\n",
    "            l = r\n",
    "        r += 1\n",
    "    return max_profit\n",
    "\n",
    "max_profit_two_pointers(prices)"
   ]
  },
  {
   "cell_type": "markdown",
   "metadata": {},
   "source": [
    "## [217. Contains Duplicate](https://leetcode.com/problems/contains-duplicate/)\n",
    "\n",
    "Given an integer array nums, return true if any value appears at least twice in the array, and return false if every element is distinct.\n",
    "\n"
   ]
  },
  {
   "cell_type": "code",
   "execution_count": null,
   "metadata": {},
   "outputs": [
    {
     "data": {
      "text/plain": [
       "True"
      ]
     },
     "execution_count": 5,
     "metadata": {},
     "output_type": "execute_result"
    }
   ],
   "source": [
    "nums = [1,2,3,1]\n",
    "\n",
    "def contains_duplicate(nums):\n",
    "    return len(set(nums)) != len(nums)\n",
    "\n",
    "contains_duplicate(nums)"
   ]
  },
  {
   "cell_type": "markdown",
   "metadata": {},
   "source": [
    "## [152. Maximum Product Subarray](https://leetcode.com/problems/maximum-product-subarray/)\n",
    "Given an integer array nums, find a contiguous non-empty subarray within the array that has the largest product, and return the product.\n",
    "\n",
    "The test cases are generated so that the answer will fit in a 32-bit integer.\n",
    "\n",
    "A subarray is a contiguous subsequence of the array."
   ]
  },
  {
   "cell_type": "code",
   "execution_count": null,
   "metadata": {},
   "outputs": [
    {
     "data": {
      "text/plain": [
       "6"
      ]
     },
     "execution_count": 77,
     "metadata": {},
     "output_type": "execute_result"
    }
   ],
   "source": [
    "nums = [2,3,-2,4]\n",
    "\n",
    "def max_product(nums):\n",
    "    res = max(nums)\n",
    "    cur_min, cur_max = 1, 1\n",
    "\n",
    "    for n in nums:\n",
    "        if n == 0:\n",
    "            cur_min, cur_max = 1, 1\n",
    "            continue\n",
    "        tmp = cur_max * n\n",
    "        cur_max = max(cur_min * n, cur_max * n, n)\n",
    "        cur_min = min(cur_min * n, tmp, n)\n",
    "        res = max(cur_max, res)\n",
    "    return res\n",
    "\n",
    "max_product(nums)"
   ]
  },
  {
   "cell_type": "markdown",
   "metadata": {},
   "source": [
    "## Notes\n",
    "Blind 75 LeetCode Questions:\n",
    "\n",
    "https://leetcode.com/discuss/general-discussion/460599/blind-75-leetcode-questions\n",
    "\n",
    "Divide and Conquer – Interview Questions and Practice Problems:\n",
    "\n",
    "https://www.techiedelight.com/divide-and-conquer-interview-questions/"
   ]
  },
  {
   "cell_type": "markdown",
   "metadata": {},
   "source": []
  }
 ],
 "metadata": {
  "interpreter": {
   "hash": "1809a2ce15718c6e0f09bf48add3298c93bdc6a4949de984c6453ed21b3adc02"
  },
  "kernelspec": {
   "display_name": "Python 3.8.3 64-bit ('base': conda)",
   "language": "python",
   "name": "python3"
  },
  "language_info": {
   "codemirror_mode": {
    "name": "ipython",
    "version": 3
   },
   "file_extension": ".py",
   "mimetype": "text/x-python",
   "name": "python",
   "nbconvert_exporter": "python",
   "pygments_lexer": "ipython3",
   "version": "3.8.5"
  },
  "orig_nbformat": 4
 },
 "nbformat": 4,
 "nbformat_minor": 2
}
